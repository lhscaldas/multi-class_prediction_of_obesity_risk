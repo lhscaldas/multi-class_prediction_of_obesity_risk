{
 "cells": [
  {
   "cell_type": "markdown",
   "metadata": {},
   "source": [
    "# Multi-Class Prediction of Obesity Risk\n",
    "\n",
    "**Programa de Engenharia de Sistemas e Computação**\n",
    "\n",
    "**CPS833 - Data Mining**\n",
    "\n",
    "**Professor**: Geraldo Zimbrão da Silva\n",
    "\n",
    "**Aluno**: Luiz Henrique Souza Caldas"
   ]
  },
  {
   "cell_type": "markdown",
   "metadata": {},
   "source": [
    "## Importação de bibliotecas"
   ]
  },
  {
   "cell_type": "code",
   "execution_count": 27,
   "metadata": {},
   "outputs": [],
   "source": [
    "import pandas as pd\n",
    "import seaborn as sns\n",
    "import numpy as np\n",
    "import matplotlib.pyplot as plt\n",
    "from yellowbrick.target import FeatureCorrelation\n",
    "from sklearn.preprocessing import LabelEncoder, StandardScaler\n",
    "from sklearn.model_selection import train_test_split\n",
    "from sklearn.naive_bayes import GaussianNB\n",
    "from sklearn.linear_model import LogisticRegression\n",
    "from sklearn.ensemble import RandomForestClassifier\n",
    "from sklearn.metrics import accuracy_score, confusion_matrix\n",
    "from sklearn.model_selection import KFold, cross_val_score, GridSearchCV\n",
    "from sklearn.neighbors import KNeighborsClassifier\n",
    "from sklearn.svm import SVC\n",
    "from sklearn.neural_network import MLPClassifier"
   ]
  },
  {
   "cell_type": "markdown",
   "metadata": {},
   "source": [
    "## Pré-processamento"
   ]
  },
  {
   "cell_type": "code",
   "execution_count": 28,
   "metadata": {},
   "outputs": [
    {
     "name": "stdout",
     "output_type": "stream",
     "text": [
      "0 dados faltantes no dataset de treino\n",
      "0 dados faltantes no dataset de teste\n",
      "0 linhas duplicadas no dataset de treino\n",
      "0 linhas duplicadas no dataset de teste\n"
     ]
    }
   ],
   "source": [
    "# Importação dos dados\n",
    "train_dataset = pd.read_csv('train.csv')\n",
    "test_dataset = pd.read_csv('test.csv')\n",
    "\n",
    "# Verificação de dados ausentes (limpeza de dados)\n",
    "print(f\"{train_dataset.isnull().any().sum()} dados faltantes no dataset de treino\")\n",
    "print(f\"{train_dataset.isnull().any().sum()} dados faltantes no dataset de teste\")\n",
    "\n",
    "# Verificação de linhas duplicadas (redução de dimensionalidade)\n",
    "print(f\"{train_dataset.duplicated().sum()} linhas duplicadas no dataset de treino\")\n",
    "print(f\"{train_dataset.duplicated().sum()} linhas duplicadas no dataset de teste\")\n",
    "\n",
    "# TODO Verificação de ouliers (redução de dimensionalidade)\n",
    "\n",
    "# Codificando features categóricas com Label Encoder (transformação de dados)\n",
    "label_encoder = LabelEncoder()\n",
    "\n",
    "train_dataset_encoded = train_dataset.copy()  # Faz uma cópia do dataset de treino para evitar alterações no original\n",
    "for col in train_dataset.columns:\n",
    "    if train_dataset[col].dtype == 'object':  # Verifica se a coluna é categórica\n",
    "        train_dataset_encoded[col] = label_encoder.fit_transform(train_dataset[col])\n",
    "\n",
    "test_dataset_encoded = test_dataset.copy() # Faz uma cópia do dataset de teste para evitar alterações no original\n",
    "for col in test_dataset.columns:\n",
    "    if test_dataset[col].dtype == 'object':  # Verifica se a coluna é categórica\n",
    "        test_dataset_encoded[col] = label_encoder.fit_transform(test_dataset[col])\n",
    "\n",
    "# Separação entre features e labels no dataset de treinamento e remoção da coluna id nos dois datasets\n",
    "features = train_dataset_encoded.iloc[:,1:17].values # features do dataset de treino removendo o id\n",
    "labels = train_dataset_encoded.iloc[:,17].values # labels\n",
    "test = test_dataset_encoded.drop(columns=['id']) # removendo o id do dataset de teste\n",
    "\n",
    "# Escalonando os dados (transformação de dados)\n",
    "scaler = StandardScaler()\n",
    "features = scaler.fit_transform(features)\n",
    "test = scaler.fit_transform(test)"
   ]
  }
 ],
 "metadata": {
  "kernelspec": {
   "display_name": "base",
   "language": "python",
   "name": "python3"
  },
  "language_info": {
   "codemirror_mode": {
    "name": "ipython",
    "version": 3
   },
   "file_extension": ".py",
   "mimetype": "text/x-python",
   "name": "python",
   "nbconvert_exporter": "python",
   "pygments_lexer": "ipython3",
   "version": "3.11.9"
  }
 },
 "nbformat": 4,
 "nbformat_minor": 2
}
